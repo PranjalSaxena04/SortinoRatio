{
 "cells": [
  {
   "cell_type": "code",
   "execution_count": 1,
   "metadata": {
    "colab": {
     "base_uri": "https://localhost:8080/"
    },
    "id": "2Tg57UKgmsAL",
    "outputId": "decf09b1-11c0-4e62-fb39-9dfc42e5e824"
   },
   "outputs": [
    {
     "name": "stdout",
     "output_type": "stream",
     "text": [
      "Looking in indexes: https://pypi.org/simple, https://us-python.pkg.dev/colab-wheels/public/simple/\n",
      "Requirement already satisfied: yfinance in /usr/local/lib/python3.8/dist-packages (0.2.3)\n",
      "Requirement already satisfied: numpy>=1.16.5 in /usr/local/lib/python3.8/dist-packages (from yfinance) (1.21.6)\n",
      "Requirement already satisfied: cryptography>=3.3.2 in /usr/local/lib/python3.8/dist-packages (from yfinance) (38.0.4)\n",
      "Requirement already satisfied: multitasking>=0.0.7 in /usr/local/lib/python3.8/dist-packages (from yfinance) (0.0.11)\n",
      "Requirement already satisfied: requests>=2.26 in /usr/local/lib/python3.8/dist-packages (from yfinance) (2.28.1)\n",
      "Requirement already satisfied: lxml>=4.9.1 in /usr/local/lib/python3.8/dist-packages (from yfinance) (4.9.2)\n",
      "Requirement already satisfied: html5lib>=1.1 in /usr/local/lib/python3.8/dist-packages (from yfinance) (1.1)\n",
      "Requirement already satisfied: beautifulsoup4>=4.11.1 in /usr/local/lib/python3.8/dist-packages (from yfinance) (4.11.1)\n",
      "Requirement already satisfied: frozendict>=2.3.4 in /usr/local/lib/python3.8/dist-packages (from yfinance) (2.3.4)\n",
      "Requirement already satisfied: pytz>=2022.5 in /usr/local/lib/python3.8/dist-packages (from yfinance) (2022.6)\n",
      "Requirement already satisfied: appdirs>=1.4.4 in /usr/local/lib/python3.8/dist-packages (from yfinance) (1.4.4)\n",
      "Requirement already satisfied: pandas>=1.3.0 in /usr/local/lib/python3.8/dist-packages (from yfinance) (1.3.5)\n",
      "Requirement already satisfied: soupsieve>1.2 in /usr/local/lib/python3.8/dist-packages (from beautifulsoup4>=4.11.1->yfinance) (2.3.2.post1)\n",
      "Requirement already satisfied: cffi>=1.12 in /usr/local/lib/python3.8/dist-packages (from cryptography>=3.3.2->yfinance) (1.15.1)\n",
      "Requirement already satisfied: pycparser in /usr/local/lib/python3.8/dist-packages (from cffi>=1.12->cryptography>=3.3.2->yfinance) (2.21)\n",
      "Requirement already satisfied: webencodings in /usr/local/lib/python3.8/dist-packages (from html5lib>=1.1->yfinance) (0.5.1)\n",
      "Requirement already satisfied: six>=1.9 in /usr/local/lib/python3.8/dist-packages (from html5lib>=1.1->yfinance) (1.15.0)\n",
      "Requirement already satisfied: python-dateutil>=2.7.3 in /usr/local/lib/python3.8/dist-packages (from pandas>=1.3.0->yfinance) (2.8.2)\n",
      "Requirement already satisfied: idna<4,>=2.5 in /usr/local/lib/python3.8/dist-packages (from requests>=2.26->yfinance) (2.10)\n",
      "Requirement already satisfied: urllib3<1.27,>=1.21.1 in /usr/local/lib/python3.8/dist-packages (from requests>=2.26->yfinance) (1.24.3)\n",
      "Requirement already satisfied: certifi>=2017.4.17 in /usr/local/lib/python3.8/dist-packages (from requests>=2.26->yfinance) (2022.12.7)\n",
      "Requirement already satisfied: charset-normalizer<3,>=2 in /usr/local/lib/python3.8/dist-packages (from requests>=2.26->yfinance) (2.1.1)\n"
     ]
    }
   ],
   "source": [
    "! pip install yfinance"
   ]
  },
  {
   "cell_type": "markdown",
   "metadata": {
    "id": "CryicVWE8-cY"
   },
   "source": [
    "# Importing the required libraries"
   ]
  },
  {
   "cell_type": "code",
   "execution_count": 2,
   "metadata": {
    "id": "qWFa254MmvKZ"
   },
   "outputs": [],
   "source": [
    "import numpy as np\n",
    "import pandas as pd\n",
    "import matplotlib.pyplot as plt\n",
    "import yfinance as yf"
   ]
  },
  {
   "cell_type": "markdown",
   "metadata": {
    "id": "IcNUPPmE9Eqh"
   },
   "source": [
    "# Function to get the stock data"
   ]
  },
  {
   "cell_type": "code",
   "execution_count": 3,
   "metadata": {
    "id": "emMx2zV-mykE"
   },
   "outputs": [],
   "source": [
    "def stock_data(symbol):\n",
    "  ticker = yf.Ticker(symbol)\n",
    "  df = ticker.history(start = \"2020-04-27\", end = '2020-10-23')\n",
    "  return df"
   ]
  },
  {
   "cell_type": "markdown",
   "metadata": {
    "id": "PzmSANdp9LQm"
   },
   "source": [
    "# Function to create a dataframe for closing price of the required stocks"
   ]
  },
  {
   "cell_type": "code",
   "execution_count": 4,
   "metadata": {
    "id": "o7_XqtjOoEnb"
   },
   "outputs": [],
   "source": [
    "closing_price = pd.DataFrame()\n",
    "def closing_price_data(symbol):\n",
    "  df = stock_data(symbol)\n",
    "  closing_price['closing price of '+ symbol] = df['Close']"
   ]
  },
  {
   "cell_type": "code",
   "execution_count": 5,
   "metadata": {
    "colab": {
     "base_uri": "https://localhost:8080/",
     "height": 455
    },
    "id": "miqeDtMioie4",
    "outputId": "c656fa69-8d6c-46c2-bac8-8780775d6551"
   },
   "outputs": [
    {
     "data": {
      "text/html": [
       "\n",
       "  <div id=\"df-a79253b5-19be-4abc-a72e-0454a2c3d22c\">\n",
       "    <div class=\"colab-df-container\">\n",
       "      <div>\n",
       "<style scoped>\n",
       "    .dataframe tbody tr th:only-of-type {\n",
       "        vertical-align: middle;\n",
       "    }\n",
       "\n",
       "    .dataframe tbody tr th {\n",
       "        vertical-align: top;\n",
       "    }\n",
       "\n",
       "    .dataframe thead th {\n",
       "        text-align: right;\n",
       "    }\n",
       "</style>\n",
       "<table border=\"1\" class=\"dataframe\">\n",
       "  <thead>\n",
       "    <tr style=\"text-align: right;\">\n",
       "      <th></th>\n",
       "      <th>closing price of AAPL</th>\n",
       "      <th>closing price of MSFT</th>\n",
       "      <th>closing price of META</th>\n",
       "    </tr>\n",
       "    <tr>\n",
       "      <th>Date</th>\n",
       "      <th></th>\n",
       "      <th></th>\n",
       "      <th></th>\n",
       "    </tr>\n",
       "  </thead>\n",
       "  <tbody>\n",
       "    <tr>\n",
       "      <th>2019-12-20 00:00:00-05:00</th>\n",
       "      <td>68.440269</td>\n",
       "      <td>153.031235</td>\n",
       "      <td>206.300003</td>\n",
       "    </tr>\n",
       "    <tr>\n",
       "      <th>2019-12-23 00:00:00-05:00</th>\n",
       "      <td>69.557114</td>\n",
       "      <td>153.031235</td>\n",
       "      <td>206.179993</td>\n",
       "    </tr>\n",
       "    <tr>\n",
       "      <th>2019-12-24 00:00:00-05:00</th>\n",
       "      <td>69.623222</td>\n",
       "      <td>153.002090</td>\n",
       "      <td>205.119995</td>\n",
       "    </tr>\n",
       "    <tr>\n",
       "      <th>2019-12-26 00:00:00-05:00</th>\n",
       "      <td>71.004570</td>\n",
       "      <td>154.256210</td>\n",
       "      <td>207.789993</td>\n",
       "    </tr>\n",
       "    <tr>\n",
       "      <th>2019-12-27 00:00:00-05:00</th>\n",
       "      <td>70.977608</td>\n",
       "      <td>154.538116</td>\n",
       "      <td>208.100006</td>\n",
       "    </tr>\n",
       "    <tr>\n",
       "      <th>...</th>\n",
       "      <td>...</td>\n",
       "      <td>...</td>\n",
       "      <td>...</td>\n",
       "    </tr>\n",
       "    <tr>\n",
       "      <th>2022-12-13 00:00:00-05:00</th>\n",
       "      <td>145.470001</td>\n",
       "      <td>256.920013</td>\n",
       "      <td>120.150002</td>\n",
       "    </tr>\n",
       "    <tr>\n",
       "      <th>2022-12-14 00:00:00-05:00</th>\n",
       "      <td>143.210007</td>\n",
       "      <td>257.220001</td>\n",
       "      <td>121.589996</td>\n",
       "    </tr>\n",
       "    <tr>\n",
       "      <th>2022-12-15 00:00:00-05:00</th>\n",
       "      <td>136.500000</td>\n",
       "      <td>249.009995</td>\n",
       "      <td>116.150002</td>\n",
       "    </tr>\n",
       "    <tr>\n",
       "      <th>2022-12-16 00:00:00-05:00</th>\n",
       "      <td>134.509995</td>\n",
       "      <td>244.690002</td>\n",
       "      <td>119.430000</td>\n",
       "    </tr>\n",
       "    <tr>\n",
       "      <th>2022-12-19 00:00:00-05:00</th>\n",
       "      <td>132.369995</td>\n",
       "      <td>240.449997</td>\n",
       "      <td>114.480003</td>\n",
       "    </tr>\n",
       "  </tbody>\n",
       "</table>\n",
       "<p>755 rows × 3 columns</p>\n",
       "</div>\n",
       "      <button class=\"colab-df-convert\" onclick=\"convertToInteractive('df-a79253b5-19be-4abc-a72e-0454a2c3d22c')\"\n",
       "              title=\"Convert this dataframe to an interactive table.\"\n",
       "              style=\"display:none;\">\n",
       "        \n",
       "  <svg xmlns=\"http://www.w3.org/2000/svg\" height=\"24px\"viewBox=\"0 0 24 24\"\n",
       "       width=\"24px\">\n",
       "    <path d=\"M0 0h24v24H0V0z\" fill=\"none\"/>\n",
       "    <path d=\"M18.56 5.44l.94 2.06.94-2.06 2.06-.94-2.06-.94-.94-2.06-.94 2.06-2.06.94zm-11 1L8.5 8.5l.94-2.06 2.06-.94-2.06-.94L8.5 2.5l-.94 2.06-2.06.94zm10 10l.94 2.06.94-2.06 2.06-.94-2.06-.94-.94-2.06-.94 2.06-2.06.94z\"/><path d=\"M17.41 7.96l-1.37-1.37c-.4-.4-.92-.59-1.43-.59-.52 0-1.04.2-1.43.59L10.3 9.45l-7.72 7.72c-.78.78-.78 2.05 0 2.83L4 21.41c.39.39.9.59 1.41.59.51 0 1.02-.2 1.41-.59l7.78-7.78 2.81-2.81c.8-.78.8-2.07 0-2.86zM5.41 20L4 18.59l7.72-7.72 1.47 1.35L5.41 20z\"/>\n",
       "  </svg>\n",
       "      </button>\n",
       "      \n",
       "  <style>\n",
       "    .colab-df-container {\n",
       "      display:flex;\n",
       "      flex-wrap:wrap;\n",
       "      gap: 12px;\n",
       "    }\n",
       "\n",
       "    .colab-df-convert {\n",
       "      background-color: #E8F0FE;\n",
       "      border: none;\n",
       "      border-radius: 50%;\n",
       "      cursor: pointer;\n",
       "      display: none;\n",
       "      fill: #1967D2;\n",
       "      height: 32px;\n",
       "      padding: 0 0 0 0;\n",
       "      width: 32px;\n",
       "    }\n",
       "\n",
       "    .colab-df-convert:hover {\n",
       "      background-color: #E2EBFA;\n",
       "      box-shadow: 0px 1px 2px rgba(60, 64, 67, 0.3), 0px 1px 3px 1px rgba(60, 64, 67, 0.15);\n",
       "      fill: #174EA6;\n",
       "    }\n",
       "\n",
       "    [theme=dark] .colab-df-convert {\n",
       "      background-color: #3B4455;\n",
       "      fill: #D2E3FC;\n",
       "    }\n",
       "\n",
       "    [theme=dark] .colab-df-convert:hover {\n",
       "      background-color: #434B5C;\n",
       "      box-shadow: 0px 1px 3px 1px rgba(0, 0, 0, 0.15);\n",
       "      filter: drop-shadow(0px 1px 2px rgba(0, 0, 0, 0.3));\n",
       "      fill: #FFFFFF;\n",
       "    }\n",
       "  </style>\n",
       "\n",
       "      <script>\n",
       "        const buttonEl =\n",
       "          document.querySelector('#df-a79253b5-19be-4abc-a72e-0454a2c3d22c button.colab-df-convert');\n",
       "        buttonEl.style.display =\n",
       "          google.colab.kernel.accessAllowed ? 'block' : 'none';\n",
       "\n",
       "        async function convertToInteractive(key) {\n",
       "          const element = document.querySelector('#df-a79253b5-19be-4abc-a72e-0454a2c3d22c');\n",
       "          const dataTable =\n",
       "            await google.colab.kernel.invokeFunction('convertToInteractive',\n",
       "                                                     [key], {});\n",
       "          if (!dataTable) return;\n",
       "\n",
       "          const docLinkHtml = 'Like what you see? Visit the ' +\n",
       "            '<a target=\"_blank\" href=https://colab.research.google.com/notebooks/data_table.ipynb>data table notebook</a>'\n",
       "            + ' to learn more about interactive tables.';\n",
       "          element.innerHTML = '';\n",
       "          dataTable['output_type'] = 'display_data';\n",
       "          await google.colab.output.renderOutput(dataTable, element);\n",
       "          const docLink = document.createElement('div');\n",
       "          docLink.innerHTML = docLinkHtml;\n",
       "          element.appendChild(docLink);\n",
       "        }\n",
       "      </script>\n",
       "    </div>\n",
       "  </div>\n",
       "  "
      ],
      "text/plain": [
       "                           closing price of AAPL  closing price of MSFT  \\\n",
       "Date                                                                      \n",
       "2019-12-20 00:00:00-05:00              68.440269             153.031235   \n",
       "2019-12-23 00:00:00-05:00              69.557114             153.031235   \n",
       "2019-12-24 00:00:00-05:00              69.623222             153.002090   \n",
       "2019-12-26 00:00:00-05:00              71.004570             154.256210   \n",
       "2019-12-27 00:00:00-05:00              70.977608             154.538116   \n",
       "...                                          ...                    ...   \n",
       "2022-12-13 00:00:00-05:00             145.470001             256.920013   \n",
       "2022-12-14 00:00:00-05:00             143.210007             257.220001   \n",
       "2022-12-15 00:00:00-05:00             136.500000             249.009995   \n",
       "2022-12-16 00:00:00-05:00             134.509995             244.690002   \n",
       "2022-12-19 00:00:00-05:00             132.369995             240.449997   \n",
       "\n",
       "                           closing price of META  \n",
       "Date                                              \n",
       "2019-12-20 00:00:00-05:00             206.300003  \n",
       "2019-12-23 00:00:00-05:00             206.179993  \n",
       "2019-12-24 00:00:00-05:00             205.119995  \n",
       "2019-12-26 00:00:00-05:00             207.789993  \n",
       "2019-12-27 00:00:00-05:00             208.100006  \n",
       "...                                          ...  \n",
       "2022-12-13 00:00:00-05:00             120.150002  \n",
       "2022-12-14 00:00:00-05:00             121.589996  \n",
       "2022-12-15 00:00:00-05:00             116.150002  \n",
       "2022-12-16 00:00:00-05:00             119.430000  \n",
       "2022-12-19 00:00:00-05:00             114.480003  \n",
       "\n",
       "[755 rows x 3 columns]"
      ]
     },
     "execution_count": 5,
     "metadata": {},
     "output_type": "execute_result"
    }
   ],
   "source": [
    "closing_price_data('AAPL')\n",
    "closing_price_data('MSFT')\n",
    "closing_price_data('META')\n",
    "\n",
    "closing_price"
   ]
  },
  {
   "cell_type": "markdown",
   "metadata": {
    "id": "tq_yEpAD-ird"
   },
   "source": [
    "# Sortino Ratio ![yo.png](data:image/png;base64,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)"
   ]
  },
  {
   "cell_type": "code",
   "execution_count": 6,
   "metadata": {
    "id": "WpkwJ7ypo4bV"
   },
   "outputs": [],
   "source": [
    "#calculate log returns because they are more accurate with time\n",
    "log_returns = np.log(1+ closing_price.pct_change()) \n",
    "\n",
    "symbols1 = ['AAPL', 'MSFT', 'META']\n",
    "no_of_symb =3"
   ]
  },
  {
   "cell_type": "code",
   "execution_count": 7,
   "metadata": {
    "colab": {
     "base_uri": "https://localhost:8080/"
    },
    "id": "ld_eCCTq2s42",
    "outputId": "5cf28a3c-ab45-461d-ce3d-50130dcfbdda"
   },
   "outputs": [
    {
     "name": "stdout",
     "output_type": "stream",
     "text": [
      "Enter no_of_Portfolios:100\n"
     ]
    }
   ],
   "source": [
    "no_of_portfolios = int(input(\"Enter no_of_Portfolios:\"))\n",
    "\n",
    "all_weights = np.zeros((no_of_portfolios,no_of_symb))\n",
    "\n",
    "ret_arr = np.zeros(no_of_portfolios)\n",
    "\n",
    "sortino_arr = np.zeros(no_of_portfolios)\n"
   ]
  },
  {
   "cell_type": "code",
   "execution_count": 8,
   "metadata": {
    "colab": {
     "base_uri": "https://localhost:8080/"
    },
    "id": "xjpoxryd8SHC",
    "outputId": "fec35680-85cd-499b-f862-eca49c2a63f7"
   },
   "outputs": [
    {
     "name": "stdout",
     "output_type": "stream",
     "text": [
      "Enter the Target return you want:1\n"
     ]
    }
   ],
   "source": [
    "target_return = int(input(\"Enter the Target return you want:\"))"
   ]
  },
  {
   "cell_type": "code",
   "execution_count": 9,
   "metadata": {
    "id": "BlXqwp495za7"
   },
   "outputs": [],
   "source": [
    "def sortino_ratio(no_of_portfolios):  \n",
    "  for ind in range(no_of_portfolios):\n",
    "    \n",
    "    weights = np.array(np.random.random(no_of_symb))\n",
    "    weights  = weights/np.sum(weights)\n",
    "    \n",
    "    all_weights[ind, :] = weights\n",
    "    \n",
    "    ret_arr[ind] = np.sum(log_returns.mean()*weights*252)\n",
    "    \n",
    "    portfolio_return = np.sum(ret_arr[ind]* weights)\n",
    "\n",
    "    risk_free_rate = 0\n",
    "\n",
    "    # Calculate the downside deviation\n",
    "    downside_deviation = np.sqrt(np.mean(np.maximum(0, target_return - ret_arr[ind]) ** 2))\n",
    "\n",
    "    # Return the Sortino ratio\n",
    "    sortino_arr[ind] = (portfolio_return - risk_free_rate) / downside_deviation\n",
    "\n"
   ]
  },
  {
   "cell_type": "code",
   "execution_count": 10,
   "metadata": {
    "colab": {
     "base_uri": "https://localhost:8080/",
     "height": 293
    },
    "id": "o9rugXMq6I9Y",
    "outputId": "98ea16c1-1d2a-4ff5-bcce-edd8ccf94868"
   },
   "outputs": [
    {
     "name": "stdout",
     "output_type": "stream",
     "text": [
      "\n",
      "################################################################################\n",
      "Portfolio metrics:\n",
      "################################################################################\n"
     ]
    },
    {
     "data": {
      "text/html": [
       "\n",
       "  <div id=\"df-170f2888-9491-4360-905a-a016ac0884fe\">\n",
       "    <div class=\"colab-df-container\">\n",
       "      <div>\n",
       "<style scoped>\n",
       "    .dataframe tbody tr th:only-of-type {\n",
       "        vertical-align: middle;\n",
       "    }\n",
       "\n",
       "    .dataframe tbody tr th {\n",
       "        vertical-align: top;\n",
       "    }\n",
       "\n",
       "    .dataframe thead th {\n",
       "        text-align: right;\n",
       "    }\n",
       "</style>\n",
       "<table border=\"1\" class=\"dataframe\">\n",
       "  <thead>\n",
       "    <tr style=\"text-align: right;\">\n",
       "      <th></th>\n",
       "      <th>Returns</th>\n",
       "      <th>Sortino Ratio</th>\n",
       "      <th>Portfolio weights</th>\n",
       "    </tr>\n",
       "  </thead>\n",
       "  <tbody>\n",
       "    <tr>\n",
       "      <th>0</th>\n",
       "      <td>0.087424</td>\n",
       "      <td>0.095799</td>\n",
       "      <td>[0.41236057732174863, 0.13533385429371494, 0.4...</td>\n",
       "    </tr>\n",
       "    <tr>\n",
       "      <th>1</th>\n",
       "      <td>0.532836</td>\n",
       "      <td>1.140574</td>\n",
       "      <td>[0.34409086362487584, 0.5441568334897687, 0.11...</td>\n",
       "    </tr>\n",
       "    <tr>\n",
       "      <th>2</th>\n",
       "      <td>0.061826</td>\n",
       "      <td>0.065901</td>\n",
       "      <td>[0.053965344308658875, 0.5464854457241075, 0.3...</td>\n",
       "    </tr>\n",
       "    <tr>\n",
       "      <th>3</th>\n",
       "      <td>0.570488</td>\n",
       "      <td>1.328224</td>\n",
       "      <td>[0.08449268539534034, 0.883213387542303, 0.032...</td>\n",
       "    </tr>\n",
       "    <tr>\n",
       "      <th>4</th>\n",
       "      <td>0.111609</td>\n",
       "      <td>0.125631</td>\n",
       "      <td>[0.16889582721905583, 0.4451518273075008, 0.38...</td>\n",
       "    </tr>\n",
       "  </tbody>\n",
       "</table>\n",
       "</div>\n",
       "      <button class=\"colab-df-convert\" onclick=\"convertToInteractive('df-170f2888-9491-4360-905a-a016ac0884fe')\"\n",
       "              title=\"Convert this dataframe to an interactive table.\"\n",
       "              style=\"display:none;\">\n",
       "        \n",
       "  <svg xmlns=\"http://www.w3.org/2000/svg\" height=\"24px\"viewBox=\"0 0 24 24\"\n",
       "       width=\"24px\">\n",
       "    <path d=\"M0 0h24v24H0V0z\" fill=\"none\"/>\n",
       "    <path d=\"M18.56 5.44l.94 2.06.94-2.06 2.06-.94-2.06-.94-.94-2.06-.94 2.06-2.06.94zm-11 1L8.5 8.5l.94-2.06 2.06-.94-2.06-.94L8.5 2.5l-.94 2.06-2.06.94zm10 10l.94 2.06.94-2.06 2.06-.94-2.06-.94-.94-2.06-.94 2.06-2.06.94z\"/><path d=\"M17.41 7.96l-1.37-1.37c-.4-.4-.92-.59-1.43-.59-.52 0-1.04.2-1.43.59L10.3 9.45l-7.72 7.72c-.78.78-.78 2.05 0 2.83L4 21.41c.39.39.9.59 1.41.59.51 0 1.02-.2 1.41-.59l7.78-7.78 2.81-2.81c.8-.78.8-2.07 0-2.86zM5.41 20L4 18.59l7.72-7.72 1.47 1.35L5.41 20z\"/>\n",
       "  </svg>\n",
       "      </button>\n",
       "      \n",
       "  <style>\n",
       "    .colab-df-container {\n",
       "      display:flex;\n",
       "      flex-wrap:wrap;\n",
       "      gap: 12px;\n",
       "    }\n",
       "\n",
       "    .colab-df-convert {\n",
       "      background-color: #E8F0FE;\n",
       "      border: none;\n",
       "      border-radius: 50%;\n",
       "      cursor: pointer;\n",
       "      display: none;\n",
       "      fill: #1967D2;\n",
       "      height: 32px;\n",
       "      padding: 0 0 0 0;\n",
       "      width: 32px;\n",
       "    }\n",
       "\n",
       "    .colab-df-convert:hover {\n",
       "      background-color: #E2EBFA;\n",
       "      box-shadow: 0px 1px 2px rgba(60, 64, 67, 0.3), 0px 1px 3px 1px rgba(60, 64, 67, 0.15);\n",
       "      fill: #174EA6;\n",
       "    }\n",
       "\n",
       "    [theme=dark] .colab-df-convert {\n",
       "      background-color: #3B4455;\n",
       "      fill: #D2E3FC;\n",
       "    }\n",
       "\n",
       "    [theme=dark] .colab-df-convert:hover {\n",
       "      background-color: #434B5C;\n",
       "      box-shadow: 0px 1px 3px 1px rgba(0, 0, 0, 0.15);\n",
       "      filter: drop-shadow(0px 1px 2px rgba(0, 0, 0, 0.3));\n",
       "      fill: #FFFFFF;\n",
       "    }\n",
       "  </style>\n",
       "\n",
       "      <script>\n",
       "        const buttonEl =\n",
       "          document.querySelector('#df-170f2888-9491-4360-905a-a016ac0884fe button.colab-df-convert');\n",
       "        buttonEl.style.display =\n",
       "          google.colab.kernel.accessAllowed ? 'block' : 'none';\n",
       "\n",
       "        async function convertToInteractive(key) {\n",
       "          const element = document.querySelector('#df-170f2888-9491-4360-905a-a016ac0884fe');\n",
       "          const dataTable =\n",
       "            await google.colab.kernel.invokeFunction('convertToInteractive',\n",
       "                                                     [key], {});\n",
       "          if (!dataTable) return;\n",
       "\n",
       "          const docLinkHtml = 'Like what you see? Visit the ' +\n",
       "            '<a target=\"_blank\" href=https://colab.research.google.com/notebooks/data_table.ipynb>data table notebook</a>'\n",
       "            + ' to learn more about interactive tables.';\n",
       "          element.innerHTML = '';\n",
       "          dataTable['output_type'] = 'display_data';\n",
       "          await google.colab.output.renderOutput(dataTable, element);\n",
       "          const docLink = document.createElement('div');\n",
       "          docLink.innerHTML = docLinkHtml;\n",
       "          element.appendChild(docLink);\n",
       "        }\n",
       "      </script>\n",
       "    </div>\n",
       "  </div>\n",
       "  "
      ],
      "text/plain": [
       "    Returns Sortino Ratio                                  Portfolio weights\n",
       "0  0.087424      0.095799  [0.41236057732174863, 0.13533385429371494, 0.4...\n",
       "1  0.532836      1.140574  [0.34409086362487584, 0.5441568334897687, 0.11...\n",
       "2  0.061826      0.065901  [0.053965344308658875, 0.5464854457241075, 0.3...\n",
       "3  0.570488      1.328224  [0.08449268539534034, 0.883213387542303, 0.032...\n",
       "4  0.111609      0.125631  [0.16889582721905583, 0.4451518273075008, 0.38..."
      ]
     },
     "metadata": {},
     "output_type": "display_data"
    },
    {
     "name": "stdout",
     "output_type": "stream",
     "text": [
      "################################################################################\n"
     ]
    }
   ],
   "source": [
    "sortino_ratio(no_of_portfolios)\n",
    "\n",
    "Required_data = [ret_arr, sortino_arr, all_weights]\n",
    "\n",
    "Outcomes = pd.DataFrame(data=Required_data).T\n",
    "\n",
    "Outcomes.columns = ['Returns','Sortino Ratio','Portfolio weights']\n",
    "\n",
    "Outcomes_df = Outcomes.infer_objects()\n",
    "\n",
    "print('')\n",
    "print('#'*80)\n",
    "print('Portfolio metrics:')\n",
    "print('#'*80)\n",
    "display(Outcomes.head())\n",
    "print('#'*80)"
   ]
  }
 ],
 "metadata": {
  "colab": {
   "provenance": []
  },
  "kernelspec": {
   "display_name": "Python 3 (ipykernel)",
   "language": "python",
   "name": "python3"
  },
  "language_info": {
   "codemirror_mode": {
    "name": "ipython",
    "version": 3
   },
   "file_extension": ".py",
   "mimetype": "text/x-python",
   "name": "python",
   "nbconvert_exporter": "python",
   "pygments_lexer": "ipython3",
   "version": "3.10.9"
  }
 },
 "nbformat": 4,
 "nbformat_minor": 1
}
